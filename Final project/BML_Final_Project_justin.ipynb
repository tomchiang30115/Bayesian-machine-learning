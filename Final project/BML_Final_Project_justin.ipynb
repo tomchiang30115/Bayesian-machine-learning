{
 "cells": [
  {
   "cell_type": "markdown",
   "metadata": {},
   "source": [
    "# CM50268 :: Final project (group work)\n",
    "\n",
    "**Total Marks 25 (25% of overall unit grade).** \n",
    "\n",
    "*Submission deadline: 8pm, May 10, 2022. Please submit this file along with your individual report in Moodle*"
   ]
  },
  {
   "cell_type": "markdown",
   "metadata": {},
   "source": [
    "## Submission & Marking\n",
    "\n",
    "This group exercise is assessed, and the marks will contribute to your final grade. For this exercise there are a number of places where you are expected to enter your own code. Please see the BML Final Project Specification document for details. \n",
    "\n",
    "Every place you have to add code is described in the text and specifically indicated by the comment:\n",
    "\n",
    "`#### **** YOUR CODE HERE **** ####`\n",
    "\n",
    "\n",
    "**Please submit your completed workbook using Moodle before 8pm on May 10, 2022 along with your individual report**. The workbook you submit must be this `.ipynb` file, which is saved into the directory you're running Jupyter; alternatively you can download it from the menu above using `File -> Download As -> Notebook (.ipynb)`. Remember to save your work regularly (Save and Checkpoint in the File menu, the icon of a floppy disk, or Ctrl-S); the version you submit should have all code blocks showing the results (if any) of execution below them.\n",
    "\n",
    "**You should take care to avoid any suggestion of plagiarism in your submission.** There is helpful information on how to avoid plagiarism on the University website: http://www.bath.ac.uk/library/help/infoguides/plagiarism.html"
   ]
  },
  {
   "cell_type": "markdown",
   "metadata": {},
   "source": [
    "# Project setup\n",
    "\n",
    "This coursework involves the evaluation of Bayesian modelling methods on a real multivariate regression task. Please check the pdf file for the details of the project.\n",
    "\n",
    "- <font color=Red> Please try to use fixed random seeds to make your results reproducible </font>\n",
    "\n",
    "- <font color=Red> Please do NOT change the name of the fixed variables, as Task 2 - Task 5 of this coding exercises are auto-marked </font>\n",
    "\n",
    "The marks for Task 1 and Task 6 will be awarded based only on the content of the report."
   ]
  },
  {
   "cell_type": "code",
   "execution_count": 1,
   "metadata": {
    "ExecuteTime": {
     "end_time": "2022-04-06T16:04:14.843249Z",
     "start_time": "2022-04-06T16:04:13.852342Z"
    }
   },
   "outputs": [],
   "source": [
    "import pandas as pd\n",
    "import numpy as np\n",
    "import matplotlib.pyplot as plt\n",
    "import tqdm\n",
    "from scipy import stats\n",
    "from sklearn.metrics import mean_squared_error\n",
    "from sklearn.preprocessing import StandardScaler\n",
    "from math import sqrt\n",
    "\n",
    "import hmc_Lab as hmc"
   ]
  },
  {
   "cell_type": "markdown",
   "metadata": {},
   "source": [
    "# Task 1 : Exploratory analysis (Section 4.1 in the specification doc)\n",
    "\n",
    "Undertake an initial exploratory analysis of the training data and summarise. Code in Task 1 will NOT by auto-marked. Results of Task 1 will be assessed along with your individual report, i.e., 4 marks in total. \n",
    "\n",
    " - <font color=Red> Please perserve the variables `X_train` and  `y_train` representing the normalised data in numpy array, as required for the following exercises  </font>\n",
    "\n",
    " - `X_train` is an np.array with shape (384, 9). The 1st column is a constant (bias) $x_0$ and the 2nd to the 9th columns are data variables $x_1,x_2,\\dots,x_8$\n",
    "\n",
    " - `y_train` is also an np.array with shape (384,), representing the target variable $y$ "
   ]
  },
  {
   "cell_type": "code",
   "execution_count": 2,
   "metadata": {
    "ExecuteTime": {
     "end_time": "2022-04-06T16:04:14.847098Z",
     "start_time": "2022-04-06T16:04:14.845333Z"
    }
   },
   "outputs": [],
   "source": [
    "#### **** YOUR CODE HERE **** ####  \n",
    "train = pd.read_csv('ee-train.csv', header=0)\n",
    "test = pd.read_csv('ee-test.csv', header=0)\n",
    "#### **** You can add extra cells to illustrate your results **** ####  "
   ]
  },
  {
   "cell_type": "code",
   "execution_count": 3,
   "metadata": {},
   "outputs": [
    {
     "data": {
      "text/html": [
       "<div>\n",
       "<style scoped>\n",
       "    .dataframe tbody tr th:only-of-type {\n",
       "        vertical-align: middle;\n",
       "    }\n",
       "\n",
       "    .dataframe tbody tr th {\n",
       "        vertical-align: top;\n",
       "    }\n",
       "\n",
       "    .dataframe thead th {\n",
       "        text-align: right;\n",
       "    }\n",
       "</style>\n",
       "<table border=\"1\" class=\"dataframe\">\n",
       "  <thead>\n",
       "    <tr style=\"text-align: right;\">\n",
       "      <th></th>\n",
       "      <th>const</th>\n",
       "      <th>Relative Compactness</th>\n",
       "      <th>Surface Area</th>\n",
       "      <th>Wall Area</th>\n",
       "      <th>Roof Area</th>\n",
       "      <th>Overall Height</th>\n",
       "      <th>Orientation</th>\n",
       "      <th>Glazing Area</th>\n",
       "      <th>Glazing Area Distribution</th>\n",
       "      <th>Heating Load</th>\n",
       "    </tr>\n",
       "  </thead>\n",
       "  <tbody>\n",
       "    <tr>\n",
       "      <th>0</th>\n",
       "      <td>1</td>\n",
       "      <td>0.62</td>\n",
       "      <td>808.5</td>\n",
       "      <td>367.5</td>\n",
       "      <td>220.5</td>\n",
       "      <td>3.5</td>\n",
       "      <td>3</td>\n",
       "      <td>0.10</td>\n",
       "      <td>5</td>\n",
       "      <td>12.74</td>\n",
       "    </tr>\n",
       "    <tr>\n",
       "      <th>1</th>\n",
       "      <td>1</td>\n",
       "      <td>0.90</td>\n",
       "      <td>563.5</td>\n",
       "      <td>318.5</td>\n",
       "      <td>122.5</td>\n",
       "      <td>7.0</td>\n",
       "      <td>3</td>\n",
       "      <td>0.10</td>\n",
       "      <td>2</td>\n",
       "      <td>29.68</td>\n",
       "    </tr>\n",
       "    <tr>\n",
       "      <th>2</th>\n",
       "      <td>1</td>\n",
       "      <td>0.90</td>\n",
       "      <td>563.5</td>\n",
       "      <td>318.5</td>\n",
       "      <td>122.5</td>\n",
       "      <td>7.0</td>\n",
       "      <td>3</td>\n",
       "      <td>0.40</td>\n",
       "      <td>2</td>\n",
       "      <td>36.57</td>\n",
       "    </tr>\n",
       "    <tr>\n",
       "      <th>3</th>\n",
       "      <td>1</td>\n",
       "      <td>0.79</td>\n",
       "      <td>637.0</td>\n",
       "      <td>343.0</td>\n",
       "      <td>147.0</td>\n",
       "      <td>7.0</td>\n",
       "      <td>2</td>\n",
       "      <td>0.25</td>\n",
       "      <td>2</td>\n",
       "      <td>38.57</td>\n",
       "    </tr>\n",
       "    <tr>\n",
       "      <th>4</th>\n",
       "      <td>1</td>\n",
       "      <td>0.90</td>\n",
       "      <td>563.5</td>\n",
       "      <td>318.5</td>\n",
       "      <td>122.5</td>\n",
       "      <td>7.0</td>\n",
       "      <td>4</td>\n",
       "      <td>0.40</td>\n",
       "      <td>5</td>\n",
       "      <td>34.72</td>\n",
       "    </tr>\n",
       "    <tr>\n",
       "      <th>...</th>\n",
       "      <td>...</td>\n",
       "      <td>...</td>\n",
       "      <td>...</td>\n",
       "      <td>...</td>\n",
       "      <td>...</td>\n",
       "      <td>...</td>\n",
       "      <td>...</td>\n",
       "      <td>...</td>\n",
       "      <td>...</td>\n",
       "      <td>...</td>\n",
       "    </tr>\n",
       "    <tr>\n",
       "      <th>379</th>\n",
       "      <td>1</td>\n",
       "      <td>0.62</td>\n",
       "      <td>808.5</td>\n",
       "      <td>367.5</td>\n",
       "      <td>220.5</td>\n",
       "      <td>3.5</td>\n",
       "      <td>4</td>\n",
       "      <td>0.40</td>\n",
       "      <td>1</td>\n",
       "      <td>17.14</td>\n",
       "    </tr>\n",
       "    <tr>\n",
       "      <th>380</th>\n",
       "      <td>1</td>\n",
       "      <td>0.64</td>\n",
       "      <td>784.0</td>\n",
       "      <td>343.0</td>\n",
       "      <td>220.5</td>\n",
       "      <td>3.5</td>\n",
       "      <td>5</td>\n",
       "      <td>0.25</td>\n",
       "      <td>2</td>\n",
       "      <td>17.11</td>\n",
       "    </tr>\n",
       "    <tr>\n",
       "      <th>381</th>\n",
       "      <td>1</td>\n",
       "      <td>0.62</td>\n",
       "      <td>808.5</td>\n",
       "      <td>367.5</td>\n",
       "      <td>220.5</td>\n",
       "      <td>3.5</td>\n",
       "      <td>5</td>\n",
       "      <td>0.10</td>\n",
       "      <td>3</td>\n",
       "      <td>12.73</td>\n",
       "    </tr>\n",
       "    <tr>\n",
       "      <th>382</th>\n",
       "      <td>1</td>\n",
       "      <td>0.71</td>\n",
       "      <td>710.5</td>\n",
       "      <td>269.5</td>\n",
       "      <td>220.5</td>\n",
       "      <td>3.5</td>\n",
       "      <td>4</td>\n",
       "      <td>0.25</td>\n",
       "      <td>3</td>\n",
       "      <td>12.10</td>\n",
       "    </tr>\n",
       "    <tr>\n",
       "      <th>383</th>\n",
       "      <td>1</td>\n",
       "      <td>0.90</td>\n",
       "      <td>563.5</td>\n",
       "      <td>318.5</td>\n",
       "      <td>122.5</td>\n",
       "      <td>7.0</td>\n",
       "      <td>5</td>\n",
       "      <td>0.25</td>\n",
       "      <td>2</td>\n",
       "      <td>31.66</td>\n",
       "    </tr>\n",
       "  </tbody>\n",
       "</table>\n",
       "<p>384 rows × 10 columns</p>\n",
       "</div>"
      ],
      "text/plain": [
       "     const  Relative Compactness  Surface Area  Wall Area  Roof Area  \\\n",
       "0        1                  0.62         808.5      367.5      220.5   \n",
       "1        1                  0.90         563.5      318.5      122.5   \n",
       "2        1                  0.90         563.5      318.5      122.5   \n",
       "3        1                  0.79         637.0      343.0      147.0   \n",
       "4        1                  0.90         563.5      318.5      122.5   \n",
       "..     ...                   ...           ...        ...        ...   \n",
       "379      1                  0.62         808.5      367.5      220.5   \n",
       "380      1                  0.64         784.0      343.0      220.5   \n",
       "381      1                  0.62         808.5      367.5      220.5   \n",
       "382      1                  0.71         710.5      269.5      220.5   \n",
       "383      1                  0.90         563.5      318.5      122.5   \n",
       "\n",
       "     Overall Height  Orientation  Glazing Area  Glazing Area Distribution  \\\n",
       "0               3.5            3          0.10                          5   \n",
       "1               7.0            3          0.10                          2   \n",
       "2               7.0            3          0.40                          2   \n",
       "3               7.0            2          0.25                          2   \n",
       "4               7.0            4          0.40                          5   \n",
       "..              ...          ...           ...                        ...   \n",
       "379             3.5            4          0.40                          1   \n",
       "380             3.5            5          0.25                          2   \n",
       "381             3.5            5          0.10                          3   \n",
       "382             3.5            4          0.25                          3   \n",
       "383             7.0            5          0.25                          2   \n",
       "\n",
       "     Heating Load  \n",
       "0           12.74  \n",
       "1           29.68  \n",
       "2           36.57  \n",
       "3           38.57  \n",
       "4           34.72  \n",
       "..            ...  \n",
       "379         17.14  \n",
       "380         17.11  \n",
       "381         12.73  \n",
       "382         12.10  \n",
       "383         31.66  \n",
       "\n",
       "[384 rows x 10 columns]"
      ]
     },
     "execution_count": 3,
     "metadata": {},
     "output_type": "execute_result"
    }
   ],
   "source": [
    "train"
   ]
  },
  {
   "cell_type": "code",
   "execution_count": 4,
   "metadata": {},
   "outputs": [
    {
     "data": {
      "text/plain": [
       "<bound method DataFrame.corr of      const  Relative Compactness  Surface Area  Wall Area  Roof Area  \\\n",
       "0        1                  0.62         808.5      367.5      220.5   \n",
       "1        1                  0.90         563.5      318.5      122.5   \n",
       "2        1                  0.90         563.5      318.5      122.5   \n",
       "3        1                  0.79         637.0      343.0      147.0   \n",
       "4        1                  0.90         563.5      318.5      122.5   \n",
       "..     ...                   ...           ...        ...        ...   \n",
       "379      1                  0.62         808.5      367.5      220.5   \n",
       "380      1                  0.64         784.0      343.0      220.5   \n",
       "381      1                  0.62         808.5      367.5      220.5   \n",
       "382      1                  0.71         710.5      269.5      220.5   \n",
       "383      1                  0.90         563.5      318.5      122.5   \n",
       "\n",
       "     Overall Height  Orientation  Glazing Area  Glazing Area Distribution  \\\n",
       "0               3.5            3          0.10                          5   \n",
       "1               7.0            3          0.10                          2   \n",
       "2               7.0            3          0.40                          2   \n",
       "3               7.0            2          0.25                          2   \n",
       "4               7.0            4          0.40                          5   \n",
       "..              ...          ...           ...                        ...   \n",
       "379             3.5            4          0.40                          1   \n",
       "380             3.5            5          0.25                          2   \n",
       "381             3.5            5          0.10                          3   \n",
       "382             3.5            4          0.25                          3   \n",
       "383             7.0            5          0.25                          2   \n",
       "\n",
       "     Heating Load  \n",
       "0           12.74  \n",
       "1           29.68  \n",
       "2           36.57  \n",
       "3           38.57  \n",
       "4           34.72  \n",
       "..            ...  \n",
       "379         17.14  \n",
       "380         17.11  \n",
       "381         12.73  \n",
       "382         12.10  \n",
       "383         31.66  \n",
       "\n",
       "[384 rows x 10 columns]>"
      ]
     },
     "execution_count": 4,
     "metadata": {},
     "output_type": "execute_result"
    }
   ],
   "source": [
    "train.corr"
   ]
  },
  {
   "cell_type": "code",
   "execution_count": 5,
   "metadata": {},
   "outputs": [],
   "source": [
    "ss = StandardScaler()\n",
    "train_ss = pd.DataFrame(ss.fit_transform(train), columns=train.columns)\n",
    "test_ss = pd.DataFrame(ss.transform(test), columns=train.columns)\n",
    "train_ss['const'] = 1\n",
    "test_ss['const'] = 1"
   ]
  },
  {
   "cell_type": "code",
   "execution_count": 6,
   "metadata": {},
   "outputs": [
    {
     "name": "stdout",
     "output_type": "stream",
     "text": [
      "X_train shape is: (384, 9)\n",
      "y_train shape is: (384,)\n",
      "X_train shape is: (384, 9)\n",
      "y_train shape is: (384,)\n"
     ]
    }
   ],
   "source": [
    "X_train = train_ss.drop('Heating Load',axis=1).values\n",
    "print(\"X_train shape is:\", X_train.shape)\n",
    "\n",
    "y_train = train_ss['Heating Load'].values\n",
    "print(\"y_train shape is:\", y_train.shape)\n",
    "\n",
    "X_test = test_ss.drop('Heating Load',axis=1).values\n",
    "print(\"X_train shape is:\", X_test.shape)\n",
    "\n",
    "y_test = test_ss['Heating Load'].values\n",
    "print(\"y_train shape is:\", y_test.shape)"
   ]
  },
  {
   "cell_type": "code",
   "execution_count": 7,
   "metadata": {},
   "outputs": [
    {
     "data": {
      "image/png": "[encoded data removed]",
      "text/plain": [
       "<Figure size 720x576 with 1 Axes>"
      ]
     },
     "metadata": {
      "needs_background": "light"
     },
     "output_type": "display_data"
    },
    {
     "name": "stdout",
     "output_type": "stream",
     "text": [
      "count    384.000000\n",
      "mean      22.920703\n",
      "std       10.066099\n",
      "min        6.400000\n",
      "25%       14.057500\n",
      "50%       23.605000\n",
      "75%       32.052500\n",
      "max       43.100000\n",
      "Name: Heating Load, dtype: float64 \n",
      "\n",
      "22.920703125\n"
     ]
    }
   ],
   "source": [
    "plt.figure(figsize=(10, 8))\n",
    "plt.hist(y_train, bins=20, density = True, \n",
    "         histtype ='bar')\n",
    "plt.title('Distribution of Heating Load values')\n",
    "plt.tight_layout()\n",
    "plt.xlabel('Heating Load')\n",
    "plt.ylabel('Value')\n",
    "plt.savefig('Heating.png')\n",
    "plt.show()\n",
    "\n",
    "print(train['Heating Load'].describe(),'\\n')\n",
    "print(train['Heating Load'].mean())"
   ]
  },
  {
   "cell_type": "code",
   "execution_count": 8,
   "metadata": {
    "ExecuteTime": {
     "end_time": "2022-04-06T16:04:14.854614Z",
     "start_time": "2022-04-06T16:04:14.849643Z"
    }
   },
   "outputs": [],
   "source": [
    "# Check whether fixed variables are correctly defined ..\n",
    "try:\n",
    "    if not isinstance(X_train,np.ndarray):\n",
    "        print('X_train should be an array')        \n",
    "    if X_train.shape != (384,9):\n",
    "        print('X_train is arranged in wrong shape')\n",
    "except Exception as err:\n",
    "    print('Error output:', err)\n",
    "    \n",
    "try:\n",
    "    if not isinstance(y_train,np.ndarray):\n",
    "        print('y_train should be an array')        \n",
    "    if y_train.shape != (384,):\n",
    "        print('y_train is arranged in wrong shape')\n",
    "except Exception as err:\n",
    "    print('Error output:', err)"
   ]
  },
  {
   "cell_type": "markdown",
   "metadata": {},
   "source": [
    "#  Task 2 : Type-2 maximum likelihood (Section 4.2 (a) in the specification doc)\n",
    "\n",
    "###  **(6 marks)**"
   ]
  },
  {
   "cell_type": "markdown",
   "metadata": {},
   "source": [
    "Precisions are defined as: $\\alpha = 1 / \\sigma_w^2$ and $ \\beta = 1 / \\sigma_{\\epsilon}^2 $\n",
    "\n",
    "Assume priors of $\\alpha$ and $\\beta$ follow flat Uniform distributions, please derive a likelihood function $(y|\\alpha, \\beta)$ (`compute_log_marginal`) to compute the *log-ikelihood* for the Bayesian linear regression problem using $X$ and hyperparameters $\\alpha$ and $\\beta$. \n",
    "\n",
    "In Lecture 4, slide 11 and 12 we have illustrated the equations of finding the most probable hyperparameters to maximise the likelihood with respect to the hyperparameters (slide 12).\n",
    "\n",
    "\n",
    "`X`: this is an np.array equivalent to matrix $X$ in the specification doc, e.g., `X_train`, `X_test`.\n",
    "\n",
    "`y`: this is an np.array equivalent totarget $y$ in the specification doc, e.g., `y_train`, `y_test`.\n"
   ]
  },
  {
   "cell_type": "code",
   "execution_count": 9,
   "metadata": {
    "ExecuteTime": {
     "end_time": "2022-04-06T16:04:14.860310Z",
     "start_time": "2022-04-06T16:04:14.857912Z"
    }
   },
   "outputs": [
    {
     "data": {
      "text/plain": [
       "-1231.2169451539166"
      ]
     },
     "execution_count": 9,
     "metadata": {},
     "output_type": "execute_result"
    }
   ],
   "source": [
    "## Compute log-likelihood\n",
    "def compute_log_marginal(X, y, alph, beta):\n",
    "    #### **** YOUR CODE HERE **** ####   \n",
    "    N = np.identity(len(X))\n",
    "    \n",
    "    cov = beta * N + np.matmul(alph * X, X.T)\n",
    "\n",
    "    lgp = stats.multivariate_normal.logpdf(y.flatten(), mean=None, cov=cov, allow_singular=True) \n",
    "    return lgp\n",
    "\n",
    "compute_log_marginal(X_train, y_train, 1, 0.01)"
   ]
  },
  {
   "cell_type": "markdown",
   "metadata": {},
   "source": [
    "Compute log-evidence (marginal likelihood) `log_prob_y` and plot the 'contourf' of the log-posterior distribution.\n",
    "\n",
    "- The x-axis should be the value of $log \\alpha$ and y-axis the $log\\beta$, `log_prob_y` represents the log-evidence. For each axis, it is recommended to use \n",
    "`np.linspace(-5,0,100)`\n",
    "\n",
    "- It is strongly recommended that you use only natural logarithms for hyper-parameter scales. That is, you would use `numpy.exp()` and `numpy.log()` functions to convert (or to convert back) the logarithm terms."
   ]
  },
  {
   "cell_type": "code",
   "execution_count": 10,
   "metadata": {
    "ExecuteTime": {
     "end_time": "2022-04-06T16:04:14.865483Z",
     "start_time": "2022-04-06T16:04:14.862299Z"
    },
    "scrolled": true
   },
   "outputs": [
    {
     "name": "stdout",
     "output_type": "stream",
     "text": [
      "[[-2063.5679236  -1946.64543652 -1835.91749106 ...  -388.52648838\n",
      "   -396.65526277  -404.83649565]\n",
      " [-2059.6376895  -1942.74718571 -1832.05142444 ...  -387.59837615\n",
      "   -395.74602771  -403.94611538]\n",
      " [-2055.88025937 -1939.01993032 -1828.35455887 ...  -386.70406108\n",
      "   -394.86962023  -403.08758264]\n",
      " ...\n",
      " [-1990.83260492 -1874.38338802 -1764.13703813 ...  -373.86905249\n",
      "   -382.43289158  -391.04328025]\n",
      " [-1990.99526441 -1874.54604712 -1764.29969683 ...  -374.02941964\n",
      "   -382.59312901  -391.20338279]\n",
      " [-1991.15985696 -1874.71063902 -1764.46428805 ...  -374.19143618\n",
      "   -382.75500918  -391.36512137]]\n"
     ]
    }
   ],
   "source": [
    "#### **** YOUR CODE HERE **** ####   \n",
    "log_alph = np.linspace(-5, 0, 100)\n",
    "log_beta = np.linspace(-5, 0, 100)\n",
    "log_prob_y = np.zeros([100,100])\n",
    "\n",
    "for i in range(100):\n",
    "    for j in range(100):\n",
    "        a = np.exp(log_alph[i])\n",
    "        r = np.exp(log_beta[j])\n",
    "        log_prob_y[i,j] = compute_log_marginal(X_train, y_train, a, r)\n",
    "\n",
    "print(log_prob_y)\n",
    "# Check whether your variables are correctly defined ..\n",
    "try:\n",
    "    if not isinstance(log_prob_y,np.ndarray):\n",
    "        print('log_prob_y should be an array')        \n",
    "    if log_prob_y.shape != (100,100):\n",
    "        print('log_prob_y is arranged in a wrong shape')\n",
    "except Exception as err:\n",
    "    print('Error output:', err)"
   ]
  },
  {
   "cell_type": "markdown",
   "metadata": {},
   "source": [
    "Print out the most proboble values of the parameters $\\alpha$ and $\\beta$ and the corresponding log-likelihood value."
   ]
  },
  {
   "cell_type": "code",
   "execution_count": 11,
   "metadata": {
    "ExecuteTime": {
     "end_time": "2022-04-06T16:04:14.869511Z",
     "start_time": "2022-04-06T16:04:14.867274Z"
    }
   },
   "outputs": [
    {
     "name": "stdout",
     "output_type": "stream",
     "text": [
      "Most Probable Alpha = 0.1543261793585188\n",
      "Log alpha = -1.868686868686869\n",
      "Most Probable Log Beta = 0.09313200592177617\n",
      "Log Beta = -2.3737373737373737\n",
      "Max Log Marginal Likelihood = -108.93015757722577\n"
     ]
    }
   ],
   "source": [
    "#### **** YOUR CODE HERE **** ####\n",
    "x, y = np.unravel_index(np.argmax(log_prob_y), log_prob_y.shape)\n",
    "max_alph = np.exp(log_alph[x])\n",
    "max_beta = np.exp(log_beta[y])\n",
    "# max_alph = log_alph[x]\n",
    "# max_beta = log_beta[y]\n",
    "max_log = log_prob_y.max()\n",
    "\n",
    "print('Most Probable Alpha =', max_alph)\n",
    "print('Log alpha =', np.log(max_alph))\n",
    "print('Most Probable Log Beta =', max_beta)\n",
    "print('Log Beta =', np.log(max_beta))\n",
    "print(f'Max Log Marginal Likelihood = {max_log}')"
   ]
  },
  {
   "cell_type": "markdown",
   "metadata": {},
   "source": [
    "Visualisation using `plt.contourf`for the posterior distribution and indicate the most probable value (with a highlighted marker) in the graph."
   ]
  },
  {
   "cell_type": "code",
   "execution_count": 12,
   "metadata": {
    "ExecuteTime": {
     "end_time": "2022-04-06T16:04:14.907653Z",
     "start_time": "2022-04-06T16:04:14.871562Z"
    }
   },
   "outputs": [
    {
     "data": {
      "image/png": "[encoded data removed]",
      "text/plain": [
       "<Figure size 1152x576 with 1 Axes>"
      ]
     },
     "metadata": {
      "needs_background": "light"
     },
     "output_type": "display_data"
    }
   ],
   "source": [
    "#### **** YOUR CODE HERE **** ####\n",
    "plt.figure(figsize=(16, 8))\n",
    "plt.contourf(log_alph, log_beta, log_prob_y.T)\n",
    "#plt.plot(np.log10(max_alph), np.log10(max_beta), 'ro')\n",
    "plt.plot(np.log(max_alph), np.log(max_beta), 'ro')\n",
    "plt.annotate(r'log($\\alpha)=$' + f'{np.log(max_alph):.2f}\\n'+ r'log($\\beta)=$' + \n",
    "             f'{np.log(max_beta):.2f}\\n', (np.log(max_alph), np.log(max_beta)))\n",
    "plt.xlabel('log s2')\n",
    "plt.ylabel('log alpha')\n",
    "plt.title('Log Marginal Likelihood')\n",
    "plt.tight_layout()\n",
    "plt.savefig('Log Marginal Likelihood.png')\n",
    "plt.show()\n"
   ]
  },
  {
   "cell_type": "code",
   "execution_count": 13,
   "metadata": {},
   "outputs": [
    {
     "data": {
      "image/png": "[encoded data removed]",
      "text/plain": [
       "<Figure size 432x288 with 1 Axes>"
      ]
     },
     "metadata": {
      "needs_background": "light"
     },
     "output_type": "display_data"
    }
   ],
   "source": [
    "# plt.figure(figsize=(16, 8))\n",
    "plt.contourf(log_beta, log_alph, np.exp(log_prob_y))\n",
    "plt.plot(np.log(max_beta), np.log(max_alph), 'ro')\n",
    "plt.annotate(r'log($\\alpha)=$' + f'{np.log(max_alph):.2f}\\n'+ r'log($\\beta)=$' + \n",
    "             f'{np.log(max_beta):.2f}\\n', (np.log(max_alph), np.log(max_beta)), color='r')\n",
    "plt.xlabel('log s2')\n",
    "plt.ylabel('log alpha')\n",
    "plt.title('Marginal Likelihood')\n",
    "plt.tight_layout()\n",
    "plt.savefig('Marginal Likelihood.png')\n",
    "plt.show()"
   ]
  },
  {
   "cell_type": "markdown",
   "metadata": {},
   "source": [
    "Write a function `compute_posterior(X, y, alph, beta)`  to compute the posterior mean $\\mathbf{\\mu}$ (`Mu`) and covariance $\\mathbf{\\Sigma}$ (`SIGMA`) for the Bayesian linear regression model, and return `Mu` and `SIGMA` for the posterior in the np.array format. "
   ]
  },
  {
   "cell_type": "code",
   "execution_count": 14,
   "metadata": {
    "ExecuteTime": {
     "end_time": "2022-04-06T16:04:14.913930Z",
     "start_time": "2022-04-06T16:04:14.911445Z"
    }
   },
   "outputs": [
    {
     "data": {
      "text/plain": [
       "(array([ 2.68922732e-16, -5.50423083e-01, -2.73084935e-01,  1.23840820e-01,\n",
       "        -3.26820129e-01,  8.41596434e-01, -1.42472750e-02,  3.02777287e-01,\n",
       "         2.11374241e-02]),\n",
       " array([[ 2.59550979e-03, -2.38932802e-17,  2.60991550e-16,\n",
       "         -1.37374101e-16, -2.79732897e-16,  9.63820701e-18,\n",
       "          2.82541236e-19, -2.91133470e-19,  2.47655190e-20],\n",
       "        [-2.38932802e-17,  1.68560356e-01,  1.15524416e-01,\n",
       "          2.67192212e-02,  1.00998074e-01,  5.09361739e-02,\n",
       "         -5.57431291e-04,  9.96764620e-04, -7.89889299e-04],\n",
       "        [ 2.60991550e-16,  1.15524416e-01,  4.32389230e-01,\n",
       "         -1.49948634e-01, -2.71914015e-01,  5.21720846e-02,\n",
       "         -4.29026364e-04,  7.38216600e-04, -3.37108299e-04],\n",
       "        [-1.37374101e-16,  2.67192212e-02, -1.49948634e-01,\n",
       "          8.71986207e-02,  1.79235020e-01, -1.87523386e-04,\n",
       "         -1.03825630e-04,  2.81096112e-04, -2.19828611e-04],\n",
       "        [-2.79732897e-16,  1.00998074e-01, -2.71914015e-01,\n",
       "          1.79235020e-01,  4.29024540e-01,  5.13832925e-02,\n",
       "         -3.72914059e-04,  5.93415774e-04, -2.27906491e-04],\n",
       "        [ 9.63820701e-18,  5.09361739e-02,  5.21720846e-02,\n",
       "         -1.87523386e-04,  5.13832925e-02,  5.51124002e-02,\n",
       "         -2.99320102e-04,  3.44453280e-04,  2.45276188e-04],\n",
       "        [ 2.82541236e-19, -5.57431291e-04, -4.29026364e-04,\n",
       "         -1.03825630e-04, -3.72914059e-04, -2.99320102e-04,\n",
       "          2.61587491e-03, -2.17979919e-04,  9.22285588e-05],\n",
       "        [-2.91133470e-19,  9.96764620e-04,  7.38216600e-04,\n",
       "          2.81096112e-04,  5.93415774e-04,  3.44453280e-04,\n",
       "         -2.17979919e-04,  2.80806732e-03, -7.20390215e-04],\n",
       "        [ 2.47655190e-20, -7.89889299e-04, -3.37108299e-04,\n",
       "         -2.19828611e-04, -2.27906491e-04,  2.45276188e-04,\n",
       "          9.22285588e-05, -7.20390215e-04,  2.78954245e-03]]))"
      ]
     },
     "execution_count": 14,
     "metadata": {},
     "output_type": "execute_result"
    }
   ],
   "source": [
    "def compute_posterior(X, y, alph, beta):\n",
    "    #### **** YOUR CODE HERE **** ####\n",
    "    N, M = X.shape\n",
    "    lam = alph * beta\n",
    "    A = lam * np.eye(M)\n",
    "    H = (X.T @ X) + A\n",
    "    SIGMA = np.linalg.inv(H)\n",
    "    Mu = beta * (SIGMA @ (X.T @ y))\n",
    "    \n",
    "    return Mu, SIGMA\n",
    "\n",
    "compute_posterior(X_train, y_train, np.exp(max_alph), np.exp(max_beta))"
   ]
  },
  {
   "cell_type": "markdown",
   "metadata": {},
   "source": [
    "Calculate the predicted weights and print out the corresponding RMSE for training and test sets."
   ]
  },
  {
   "cell_type": "code",
   "execution_count": 15,
   "metadata": {
    "ExecuteTime": {
     "end_time": "2022-04-06T16:04:14.918700Z",
     "start_time": "2022-04-06T16:04:14.916908Z"
    }
   },
   "outputs": [
    {
     "name": "stdout",
     "output_type": "stream",
     "text": [
      "Predicted Weights Shape is: (384,)\n",
      "Maximum Predicted Weights for Train is 0.1655446793063115 and Test is 0.16766228346891332\n",
      "Minimum Predicted Weights for Train is -0.15145819621347062 and Test is -0.16426185569712326\n",
      "RMSE for Training Sets is: 0.5596521755794045\n",
      "RMSE for Test Sets is: 1.2157849665153913\n"
     ]
    }
   ],
   "source": [
    "#### **** YOUR CODE HERE **** ####\n",
    "def predict(x_train, y_train, alph, beta, x_test):\n",
    "    \"\"\"Predict from the posterior.\"\"\"\n",
    "    w, mu = compute_posterior(x_train, y_train, alph, beta)\n",
    "    y_pred = np.matmul(x_test, w)\n",
    "    return y_pred, mu\n",
    "\n",
    "y_pred_train, _ = predict(X_train, y_train, max_alph, max_beta, X_train)\n",
    "y_pred_test, mu = predict(X_train, y_train, max_alph, max_beta, X_test)\n",
    "\n",
    "alph = max_alph\n",
    "beta = max_beta\n",
    "Mu, SIGMA = compute_posterior(X_train, y_train, np.exp(alph), np.exp(beta))\n",
    "predicted_weights = X_train @ Mu #np.dot(X_train, Mu)\n",
    "print('Predicted Weights Shape is:', predicted_weights.shape)\n",
    "print(f'Maximum Predicted Weights for Train is {y_pred_train.max()} and Test is {y_pred_test.max()}')\n",
    "print(f'Minimum Predicted Weights for Train is {y_pred_train.min()} and Test is {y_pred_test.min()}')\n",
    "RMSE_train = sqrt(mean_squared_error(y_train, predicted_weights, squared=False))\n",
    "print('RMSE for Training Sets is:', RMSE_train)\n",
    "RMSE_test = sqrt(mean_squared_error(y_test, predicted_weights, squared=False))\n",
    "print('RMSE for Test Sets is:', RMSE_test)"
   ]
  },
  {
   "cell_type": "markdown",
   "metadata": {},
   "source": [
    "# Task 3: Variational Inference (Section 4.2 (b) in the specification doc)"
   ]
  },
  {
   "cell_type": "markdown",
   "metadata": {},
   "source": [
    "###  **(4 marks)**\n",
    "\n",
    "Write a Variational Inference function `VI(X_train, Y_train)` and return parameter estimates. \n",
    "\n",
    "The returned terms should include:\n",
    "\n",
    "`an`, `bn`, `cn`, `dn`: float\n",
    "\n",
    "`mn_n`: np.array, shape = (9,),\n",
    "\n",
    "`sig_n`: np.array, shape = (9,9),\n",
    "\n",
    "where\n",
    "\n",
    "`an` and `bn` are the hyper-parameters for $w\\propto  N(w|0,\\alpha)$,  $\\alpha\\propto Gamma(\\alpha|a,b) $. \n",
    "\n",
    "`cn` and `dn` are the hyper-parameters for gaussian noise $N(0,\\beta)$,  $\\beta\\propto Gamma(\\beta|c,d) $.\n",
    "\n",
    "`mn_n` and `sig_n` are the mean $\\mathbf{\\mu}$ and covariance $\\mathbf{\\Sigma}$ of the posterior distribution w.r.t. $w$ (in this task) for the Bayesian linear regression model.\n",
    "\n",
    "The corresponding derivations should be completed in your report.\n",
    "\n"
   ]
  },
  {
   "cell_type": "code",
   "execution_count": 16,
   "metadata": {
    "ExecuteTime": {
     "end_time": "2022-04-06T16:04:14.923133Z",
     "start_time": "2022-04-06T16:04:14.920741Z"
    }
   },
   "outputs": [],
   "source": [
    "def VI(X_train, Y_train):\n",
    "    #### **** YOUR CODE HERE **** ####\n",
    "\n",
    "    \n",
    "    \n",
    "    return an,bn,cn,dn, mu_n, sig_n\n"
   ]
  },
  {
   "cell_type": "markdown",
   "metadata": {},
   "source": [
    "Print out the expectation of $\\alpha$ and $\\beta$ as `exp_alpha`,`exp_beta`. \n"
   ]
  },
  {
   "cell_type": "code",
   "execution_count": 17,
   "metadata": {
    "ExecuteTime": {
     "end_time": "2022-04-06T16:04:14.928214Z",
     "start_time": "2022-04-06T16:04:14.925100Z"
    }
   },
   "outputs": [
    {
     "name": "stdout",
     "output_type": "stream",
     "text": [
      "Error output: name 'Y_train' is not defined\n"
     ]
    }
   ],
   "source": [
    "try:\n",
    "    an,bn,cn,dn, mu_n, sig_n = VI(X_train, Y_train)\n",
    "except Exception as err:\n",
    "    print('Error output:', err)\n",
    "    \n",
    "#### Print out the expectation of alpha and beta\n",
    "#### **** YOUR CODE HERE **** ####\n",
    "\n"
   ]
  },
  {
   "cell_type": "code",
   "execution_count": 18,
   "metadata": {
    "ExecuteTime": {
     "end_time": "2022-04-06T16:04:14.935127Z",
     "start_time": "2022-04-06T16:04:14.930399Z"
    }
   },
   "outputs": [
    {
     "name": "stdout",
     "output_type": "stream",
     "text": [
      "Error output: name 'mu_n' is not defined\n",
      "Error output: name 'sig_n' is not defined\n",
      "Error output: name 'exp_alpha' is not defined\n"
     ]
    }
   ],
   "source": [
    "# Check whether your variables are correctly defined  ..\n",
    "try:\n",
    "    if not isinstance(mu_n,np.ndarray):\n",
    "        print('mu_n should be an array')        \n",
    "    if mu_n.shape != (9,):\n",
    "        print('mu_n is arranged in wrong shape')\n",
    "except Exception as err:\n",
    "    print('Error output:', err)\n",
    "    \n",
    "try:\n",
    "    if not isinstance(sig_n,np.ndarray):\n",
    "        print('sig_n should be an array')        \n",
    "    if sig_n.shape != (9,9):\n",
    "        print('sig_n is arranged in wrong shape')\n",
    "except Exception as err:\n",
    "    print('Error output:', err)\n",
    "    \n",
    "try:\n",
    "    exp_alpha\n",
    "    exp_beta\n",
    "except Exception as err:\n",
    "    print('Error output:', err)"
   ]
  },
  {
   "cell_type": "markdown",
   "metadata": {},
   "source": [
    "Calculate the RMSE for training and test sets."
   ]
  },
  {
   "cell_type": "code",
   "execution_count": 19,
   "metadata": {
    "ExecuteTime": {
     "end_time": "2022-04-06T16:04:14.939211Z",
     "start_time": "2022-04-06T16:04:14.937164Z"
    }
   },
   "outputs": [],
   "source": [
    "#### **** YOUR CODE HERE **** ####\n"
   ]
  },
  {
   "cell_type": "markdown",
   "metadata": {},
   "source": [
    "# Task 4: Verify HMC on a standard 2D Gaussian example (Section 4.3 in the specification doc)"
   ]
  },
  {
   "cell_type": "markdown",
   "metadata": {},
   "source": [
    "###  **(4 marks)**\n",
    "\n",
    "## The \"Distribution\"\n",
    "\n",
    "Complete the following functions:\n",
    "\n",
    "- `energy_func(x)`: the energy function, return negative log pdf value in float format\n",
    "- `energy_grad(x)`: the gradient function returns a numpy array containing the partial derivatives of the energy function with respect to the parameters/hyper-parameters.\n",
    "- `covar`: Covariance matrix for 2-dimensional gaussian. It is an numpy array with shape (2,2), e.g,  np.array([[1.0875,1],[1,1.0875]]) \n",
    "\n",
    "- `R`: the number of samples desired\n",
    "- `L`: number of simulation steps; for this simple case, 20 is easily enough\n",
    "- `eps`: simulation step length; set by trial-and-error to give approx. 90% acceptance\n",
    "- `burn`: simply set to `R/10`\n",
    "- `checkgrad`: set to true to test the consistency of `energy_func` and `energy_grad`\n",
    "\n"
   ]
  },
  {
   "cell_type": "code",
   "execution_count": 20,
   "metadata": {
    "ExecuteTime": {
     "end_time": "2022-04-06T16:04:14.943668Z",
     "start_time": "2022-04-06T16:04:14.941113Z"
    }
   },
   "outputs": [],
   "source": [
    "def energy_func(x, covar):\n",
    "    #### **** YOUR CODE HERE **** ####\n",
    "    neglgp = -1 * stats.multivariate_normal.logpdf(x, cov=covar)\n",
    "    return neglgp\n",
    "\n",
    "# def energy_grad(x, covar):\n",
    "#     #### **** YOUR CODE HERE **** ####\n",
    "#     partial = covar[1,0] / (np.sqrt(covar[0,0]) * np.sqrt(covar[1,1]))\n",
    "    \n",
    "#     g = np.empty(2)\n",
    "#     g[0] = 2 / covar[1,1] * x[0] - 2 * partial * np.sin(covar[1,1] * x[1]) / (np.sqrt(covar[0,0]) * np.sqrt(covar[1,1]))\n",
    "#     g[1] = 2 / covar[1,1] * x[1] - 2 * partial * np.sin(covar[0,0] * x[0]) / (np.sqrt(covar[0,0]) * np.sqrt(covar[1,1]))\n",
    "#     g = g / ( 2* (1 - partial ** 2))\n",
    "#     return g\n",
    "\n",
    "# def energy_grad(x, covar):\n",
    "#     #### **** YOUR CODE HERE **** ####\n",
    "#     partial = covar[1,0] / (np.sqrt(covar[0,0]) * np.sqrt(covar[1,1]))\n",
    "    \n",
    "#     g = np.empty(2)\n",
    "#     g[0] = 2 / covar[0,0] * x[0] - 2 * partial * (x[1]) / (np.sqrt(covar[0,0]) * np.sqrt(covar[1,1]))\n",
    "#     g[1] = 2 / covar[1,1] * x[1] - 2 * partial * (x[0]) / (np.sqrt(covar[0,0]) * np.sqrt(covar[1,1]))\n",
    "#     g = g / ( 2 * (1 - partial ** 2))\n",
    "#     return g\n",
    "\n",
    "def energy_grad(x, covar):\n",
    "    #### **** YOUR CODE HERE **** ####\n",
    "    g = np.linalg.inv(covar) @ x\n",
    "    return g"
   ]
  },
  {
   "cell_type": "markdown",
   "metadata": {},
   "source": [
    "## Visualising the Distribution\n",
    "Before we run the sampler, let's visualise the distribution over an appropriate\n",
    "grid of values. Please specify `covar` to plot figures, an naive example of `covar` has been shown below"
   ]
  },
  {
   "cell_type": "code",
   "execution_count": 21,
   "metadata": {
    "ExecuteTime": {
     "end_time": "2022-04-06T16:04:15.132283Z",
     "start_time": "2022-04-06T16:04:14.945961Z"
    }
   },
   "outputs": [
    {
     "data": {
      "image/png": "[encoded data removed]",
      "text/plain": [
       "<Figure size 720x576 with 1 Axes>"
      ]
     },
     "metadata": {
      "needs_background": "light"
     },
     "output_type": "display_data"
    }
   ],
   "source": [
    "\n",
    "#### **** YOUR CODE BELOW **** ####\n",
    "\n",
    "covar = np.array([[1,0.9],[0.9,1]]) \n",
    "R=10000\n",
    "L=20\n",
    "eps = 0.9\n",
    "burn = int(R/10)\n",
    "\n",
    "#### **** YOUR CODE ABOVE **** ####\n",
    "\n",
    "f = 5  # The \"frequency\" argument for the energy, used here to demonstrate how to use \"args\"\n",
    "# Other plotting parameters\n",
    "fsz = (10,8)\n",
    "gsz = 100\n",
    "lim = 3\n",
    "\n",
    "# Setup the mesh grid\n",
    "\n",
    "gx = np.linspace(-lim, lim, gsz)\n",
    "GX, GY = np.meshgrid(gx, gx)\n",
    "Gsz = GX.size\n",
    "G = np.hstack((GX.reshape((Gsz, 1)), GY.reshape((Gsz, 1))))\n",
    "\n",
    "# Plot the figure\n",
    "plt.figure(figsize=fsz)\n",
    "P = np.asarray([np.exp(-energy_func(g, covar)) for g in G])\n",
    "plt.contour(GX, GY, P.reshape((gsz, gsz)), cmap='Reds', linewidths=3, zorder=1);"
   ]
  },
  {
   "cell_type": "code",
   "execution_count": 22,
   "metadata": {
    "ExecuteTime": {
     "end_time": "2022-04-06T16:04:43.415213Z",
     "start_time": "2022-04-06T16:04:43.412702Z"
    }
   },
   "outputs": [],
   "source": [
    "try:\n",
    "    if not isinstance(covar ,np.ndarray):\n",
    "        print('covar  should be an array')        \n",
    "    if covar .shape != (2,2):\n",
    "        print('covar  is arranged in wrong shape')\n",
    "except Exception as err:\n",
    "    print('Error output:', err)"
   ]
  },
  {
   "cell_type": "code",
   "execution_count": 23,
   "metadata": {
    "ExecuteTime": {
     "end_time": "2022-04-06T16:04:44.387058Z",
     "start_time": "2022-04-06T16:04:44.376115Z"
    }
   },
   "outputs": [
    {
     "name": "stdout",
     "output_type": "stream",
     "text": [
      "Calc.         Numeric       Delta         Acc.\n",
      "    -3.35581      -3.35581  \u001b[37m 9.201573e-11\u001b[0m  11\n",
      "     3.83676       3.83676  \u001b[37m-3.853184e-11\u001b[0m  11\n"
     ]
    }
   ],
   "source": [
    "# Initialise the state for the first time step\n",
    "x0 = np.random.normal(size=2)\n",
    "\n",
    "# Call the function from the pre-defined hmc module\n",
    "hmc.gradient_check(x0, energy_func, energy_grad, covar)"
   ]
  },
  {
   "cell_type": "markdown",
   "metadata": {},
   "source": [
    "## Hyper-parameters\n",
    "\n",
    "Please tune optimal hyper-parameters incluidng `R`, `L`, and `eps` in the cell below. "
   ]
  },
  {
   "cell_type": "code",
   "execution_count": 24,
   "metadata": {
    "ExecuteTime": {
     "end_time": "2022-04-06T16:04:46.883980Z",
     "start_time": "2022-04-06T16:04:46.876236Z"
    }
   },
   "outputs": [
    {
     "name": "stdout",
     "output_type": "stream",
     "text": [
      "Calc.         Numeric       Delta         Acc.\n",
      "    -3.89117      -3.89117  \u001b[37m 2.596345e-10\u001b[0m  11\n",
      "     4.32891       4.32891  \u001b[37m 4.698997e-11\u001b[0m  11\n",
      "|----------|  0% accepted [ 4 secs to go ]\n",
      "|#---------| 90% accepted [ 3 secs to go ]\n",
      "|##--------| 90% accepted [ 3 secs to go ]\n",
      "|###-------| 90% accepted [ 3 secs to go ]\n",
      "|####------| 90% accepted [ 2 secs to go ]\n",
      "|#####-----| 90% accepted [ 2 secs to go ]\n",
      "|######----| 90% accepted [ 1 secs to go ]\n",
      "|#######---| 90% accepted [ 1 secs to go ]\n",
      "|########--| 90% accepted [ 1 secs to go ]\n",
      "|#########-| 90% accepted [ 0 secs to go ]\n",
      "|##########| 90% accepted [ 0 secs to go ]\n",
      "HMC: R=10000 / L=20 / eps=0.36 / Accept=90.3%\n"
     ]
    },
    {
     "data": {
      "image/png": "[encoded data removed]",
      "text/plain": [
       "<Figure size 720x576 with 1 Axes>"
      ]
     },
     "metadata": {
      "needs_background": "light"
     },
     "output_type": "display_data"
    }
   ],
   "source": [
    "np.random.seed(seed=1)  # Fix the random seed for better reproducibility\n",
    "\n",
    "#### **** YOUR CODE BELOW **** ####\n",
    "\n",
    "covar = np.array([[1.0875, 1],[1, 1.0875]])\n",
    "R= 10000\n",
    "L = 20\n",
    "eps = 0.36\n",
    "burn = int(R/10) \n",
    "\n",
    "#### **** YOUR CODE ABOVE **** ####\n",
    "\n",
    "# HMC sampling\n",
    "S, *_ = hmc.sample(x0, energy_func, energy_grad, R, L, eps, burn=burn, checkgrad=True, args=[covar])\n",
    "# Plot the figure\n",
    "plt.figure(figsize=fsz)\n",
    "plt.plot(S[:, 0], S[:, 1], '.', ms=6, color='CadetBlue', alpha=0.25, zorder=0)\n",
    "plt.contour(GX, GY, P.reshape((gsz, gsz)), cmap='Reds', linewidths=3, zorder=1);"
   ]
  },
  {
   "cell_type": "code",
   "execution_count": 25,
   "metadata": {
    "ExecuteTime": {
     "end_time": "2022-04-06T16:04:15.143577Z",
     "start_time": "2022-04-06T16:04:13.873Z"
    }
   },
   "outputs": [
    {
     "data": {
      "image/png": "[encoded data removed]",
      "text/plain": [
       "<Figure size 432x288 with 1 Axes>"
      ]
     },
     "metadata": {
      "needs_background": "light"
     },
     "output_type": "display_data"
    }
   ],
   "source": [
    "#### **** YOUR CODE HERE **** ####\n",
    "\n",
    "#### **** You can add extra figures to support the individual report **** ####\n",
    "S_mu1 = S[:,0].sum() /(np.array(range(len(S)))+1).reshape(-1)\n",
    "S_mu2 = S[:,1].sum() /(np.array(range(len(S)))+1).reshape(-1)\n",
    "plt.plot(S_mu1,label='Estimate for $\\mu_1$')\n",
    "plt.plot(S_mu2,label='Estimate for $\\mu_2$')\n",
    "\n",
    "plt.plot([0,5000],[0,0],'b--')\n",
    "plt.legend(loc='upper right')\n",
    "plt.title('Convergence of means')\n",
    "plt.tight_layout()"
   ]
  },
  {
   "cell_type": "markdown",
   "metadata": {},
   "source": [
    "# Task 5: Apply HMC to the Linear Regression Model (Section 4.4 in the specification doc)"
   ]
  },
  {
   "cell_type": "markdown",
   "metadata": {},
   "source": [
    "###  **(8 marks)**\n",
    "\n",
    "Complete the functions and the HMC code for this task:\n",
    "\n",
    "- `energy_func_lr(hps, x, y)`: where `hps` is a 2+9 dimension array, where the 1st dimension represents $\\alpha$, and the 2nd represnets $\\beta$. Thus, `hps[0]` should be the current $\\alpha$, `hps[1]` the $\\beta$ and `hps[2:]` represent the weights `w` for constant and 8 variables respectively. `x` and `y` is the x and y array of training data.\n",
    "\n",
    "- `energy_grad_lr(hps, x, y)`: the gradient function returns an array containing the partial derivatives of the energy function. should be the same shape for hps. \n",
    "\n",
    "- `R`: the number of samples desired\n",
    "- `L`: number of simulation steps; for this simple case, 20 is easily enough\n",
    "- `eps`: simulation step length; set by trial-and-error to give approx. 90% acceptance\n",
    "- `burn`: simply set to `R/10`\n",
    "- `checkgrad`: set to true to test the consistency of `energy_func` and `energy_grad`\n",
    "\n",
    "\n"
   ]
  },
  {
   "cell_type": "code",
   "execution_count": 26,
   "metadata": {
    "ExecuteTime": {
     "end_time": "2022-04-06T16:04:15.144865Z",
     "start_time": "2022-04-06T16:04:13.874Z"
    }
   },
   "outputs": [],
   "source": [
    "def energy_func_lr(hps, x, y):\n",
    "    #### **** YOUR CODE HERE **** ####\n",
    "    alph = hps[0]\n",
    "    beta = hps[1]\n",
    "    w = hps[2:]\n",
    "    \n",
    "    N,M = x.shape\n",
    "    \n",
    "    \n",
    "    return neglgp"
   ]
  },
  {
   "cell_type": "code",
   "execution_count": 27,
   "metadata": {
    "ExecuteTime": {
     "end_time": "2022-04-06T16:04:15.146105Z",
     "start_time": "2022-04-06T16:04:13.875Z"
    }
   },
   "outputs": [],
   "source": [
    "def energy_grad_lr(hps, x, y):\n",
    "    \n",
    "    #### **** YOUR CODE HERE **** ####\n",
    "\n",
    "    return g"
   ]
  },
  {
   "cell_type": "code",
   "execution_count": 28,
   "metadata": {
    "ExecuteTime": {
     "end_time": "2022-04-06T16:04:15.147415Z",
     "start_time": "2022-04-06T16:04:13.877Z"
    }
   },
   "outputs": [
    {
     "ename": "NameError",
     "evalue": "name 'Y_train' is not defined",
     "output_type": "error",
     "traceback": [
      "\u001b[1;31m---------------------------------------------------------------------------\u001b[0m",
      "\u001b[1;31mNameError\u001b[0m                                 Traceback (most recent call last)",
      "\u001b[1;32m<ipython-input-28-904cf16c8c18>\u001b[0m in \u001b[0;36m<module>\u001b[1;34m\u001b[0m\n\u001b[0;32m      8\u001b[0m \u001b[1;33m\u001b[0m\u001b[0m\n\u001b[0;32m      9\u001b[0m \u001b[1;33m\u001b[0m\u001b[0m\n\u001b[1;32m---> 10\u001b[1;33m \u001b[0mS\u001b[0m\u001b[1;33m,\u001b[0m \u001b[1;33m*\u001b[0m\u001b[0m_\u001b[0m \u001b[1;33m=\u001b[0m \u001b[0mhmc\u001b[0m\u001b[1;33m.\u001b[0m\u001b[0msample\u001b[0m\u001b[1;33m(\u001b[0m\u001b[0mx0\u001b[0m\u001b[1;33m,\u001b[0m \u001b[0menergy_func_lr\u001b[0m\u001b[1;33m,\u001b[0m \u001b[0menergy_grad_lr\u001b[0m\u001b[1;33m,\u001b[0m \u001b[0mR\u001b[0m\u001b[1;33m,\u001b[0m \u001b[0mL\u001b[0m\u001b[1;33m,\u001b[0m \u001b[0meps\u001b[0m\u001b[1;33m,\u001b[0m \u001b[0mburn\u001b[0m\u001b[1;33m=\u001b[0m\u001b[0mburn\u001b[0m\u001b[1;33m,\u001b[0m \u001b[0mcheckgrad\u001b[0m\u001b[1;33m=\u001b[0m\u001b[1;32mTrue\u001b[0m\u001b[1;33m,\u001b[0m \u001b[0margs\u001b[0m\u001b[1;33m=\u001b[0m\u001b[1;33m[\u001b[0m\u001b[0mX_train\u001b[0m\u001b[1;33m,\u001b[0m \u001b[0mY_train\u001b[0m\u001b[1;33m]\u001b[0m\u001b[1;33m)\u001b[0m\u001b[1;33m\u001b[0m\u001b[1;33m\u001b[0m\u001b[0m\n\u001b[0m",
      "\u001b[1;31mNameError\u001b[0m: name 'Y_train' is not defined"
     ]
    }
   ],
   "source": [
    "np.random.seed(seed=1) \n",
    "\n",
    "#### **** YOUR CODE HERE **** ####\n",
    "\n",
    "\n",
    "\n",
    "#### you can adjust the hpyer-parameters. \n",
    "\n",
    "\n",
    "S, *_ = hmc.sample(x0, energy_func_lr, energy_grad_lr, R, L, eps, burn=burn, checkgrad=True, args=[X_train, Y_train])"
   ]
  },
  {
   "cell_type": "markdown",
   "metadata": {},
   "source": [
    "## Print out the RMSE and plot figures for your report"
   ]
  },
  {
   "cell_type": "code",
   "execution_count": null,
   "metadata": {
    "ExecuteTime": {
     "end_time": "2022-04-06T16:04:15.148669Z",
     "start_time": "2022-04-06T16:04:13.878Z"
    }
   },
   "outputs": [],
   "source": [
    "#### **** YOUR CODE HERE **** ####"
   ]
  },
  {
   "cell_type": "markdown",
   "metadata": {},
   "source": [
    "# Task 6: Gaussian Processes\n",
    "\n",
    "###  **(3 marks)**\n",
    "\n",
    "There's no restriction on the GP implementation, you could either use the sklearn package or the Tensorflow style, the latter of which may receive extra bonus mark depending on the quality of implementation.  \n",
    "\n",
    "You only need to estimate the weights from $x0$ to $x8$ in this task, then calculate RMSE and plot supporting figures for your report. \n",
    "\n",
    "<font color=Red>  It is highly recommended that you impelment this part in a seperated file if your implementation contains too many extra libraries, as it may fool the auto-marker and incorrectly mark the rest of your notebook. \n",
    "<font>   \n",
    "    \n",
    "    \n"
   ]
  },
  {
   "cell_type": "code",
   "execution_count": null,
   "metadata": {},
   "outputs": [],
   "source": []
  }
 ],
 "metadata": {
  "kernelspec": {
   "display_name": "Python 3 (ipykernel)",
   "language": "python",
   "name": "python3"
  },
  "language_info": {
   "codemirror_mode": {
    "name": "ipython",
    "version": 3
   },
   "file_extension": ".py",
   "mimetype": "text/x-python",
   "name": "python",
   "nbconvert_exporter": "python",
   "pygments_lexer": "ipython3",
   "version": "3.9.7"
  },
  "toc": {
   "base_numbering": 1,
   "nav_menu": {},
   "number_sections": true,
   "sideBar": true,
   "skip_h1_title": false,
   "title_cell": "Table of Contents",
   "title_sidebar": "Contents",
   "toc_cell": false,
   "toc_position": {
    "height": "calc(100% - 180px)",
    "left": "10px",
    "top": "150px",
    "width": "277px"
   },
   "toc_section_display": true,
   "toc_window_display": true
  },
  "varInspector": {
   "cols": {
    "lenName": 16,
    "lenType": 16,
    "lenVar": 40
   },
   "kernels_config": {
    "python": {
     "delete_cmd_postfix": "",
     "delete_cmd_prefix": "del ",
     "library": "var_list.py",
     "varRefreshCmd": "print(var_dic_list())"
    },
    "r": {
     "delete_cmd_postfix": ") ",
     "delete_cmd_prefix": "rm(",
     "library": "var_list.r",
     "varRefreshCmd": "cat(var_dic_list()) "
    }
   },
   "types_to_exclude": [
    "module",
    "function",
    "builtin_function_or_method",
    "instance",
    "_Feature"
   ],
   "window_display": false
  }
 },
 "nbformat": 4,
 "nbformat_minor": 4
}
